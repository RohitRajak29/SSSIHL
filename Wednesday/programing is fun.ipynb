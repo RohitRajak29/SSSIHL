{
 "cells": [
  {
   "cell_type": "code",
   "execution_count": null,
   "metadata": {},
   "outputs": [],
   "source": [
    "import pandas as pd\n",
    "import numpy as np"
   ]
  },
  {
   "cell_type": "code",
   "execution_count": null,
   "metadata": {},
   "outputs": [],
   "source": [
    "## taking inputs from the users:\n",
    "n = input('Pease tell me your name?')\n",
    "print('welcome ', n)\n",
    "print('have a pleasant day ', n)"
   ]
  },
  {
   "cell_type": "code",
   "execution_count": null,
   "metadata": {},
   "outputs": [],
   "source": []
  },
  {
   "cell_type": "code",
   "execution_count": null,
   "metadata": {},
   "outputs": [],
   "source": [
    "## decide on the discounts: 10% on the shopping cart\n",
    "\n",
    "c = input('What is the cost?')\n"
   ]
  },
  {
   "cell_type": "code",
   "execution_count": null,
   "metadata": {},
   "outputs": [],
   "source": [
    "c * 0.10\n",
    "## I am getting the error. Reason beacuse the inputs are conceived as strings, not as a number here."
   ]
  },
  {
   "cell_type": "code",
   "execution_count": null,
   "metadata": {},
   "outputs": [],
   "source": [
    "## so need to update in the input statement itself.\n",
    "c = int(input('What is the cost: '))"
   ]
  },
  {
   "cell_type": "code",
   "execution_count": null,
   "metadata": {},
   "outputs": [],
   "source": [
    "print(c * 0.9) #. after the deduction of the 10%  taxes."
   ]
  },
  {
   "cell_type": "code",
   "execution_count": null,
   "metadata": {},
   "outputs": [],
   "source": [
    "print(\"Hi how are you?\")\n",
    "c = input(\"please enter the number of your choice\")\n",
    "d = int(c)\n",
    "if (d == 1):\n",
    "    print(\"you entered one\")\n",
    "if (d == 2):\n",
    "    print(\"You entered two\")\n",
    "if (d == 3):\n",
    "    print(\"Ahhhh... I am tired\")"
   ]
  },
  {
   "cell_type": "code",
   "execution_count": null,
   "metadata": {},
   "outputs": [],
   "source": []
  },
  {
   "cell_type": "code",
   "execution_count": null,
   "metadata": {},
   "outputs": [],
   "source": [
    "## I kept on typing Hi, how are you 10 times.\n",
    "print('Hi how are you?')\n",
    "print('Hi how are you?')\n",
    "print('Hi how are you?')\n",
    "print('Hi how are you?')\n",
    "print('Hi how are you?')\n",
    "print('Hi how are you?')\n",
    "print('Hi how are you?')\n",
    "print('Hi how are you?')\n",
    "print('Hi how are you?')\n",
    "print('Hi how are you?')"
   ]
  },
  {
   "cell_type": "code",
   "execution_count": null,
   "metadata": {},
   "outputs": [],
   "source": [
    "## rather than writing this 10 times, better to write it like:\n",
    "for i in range(10):\n",
    "    print('Hi how are you?')"
   ]
  },
  {
   "cell_type": "code",
   "execution_count": null,
   "metadata": {},
   "outputs": [],
   "source": []
  },
  {
   "cell_type": "code",
   "execution_count": null,
   "metadata": {},
   "outputs": [],
   "source": [
    "## Loops of sum of numbers:\n",
    "print(1+2+3)\n",
    "\n",
    "print(1+2+3+4+5+6+7+8+9+10)"
   ]
  },
  {
   "cell_type": "code",
   "execution_count": null,
   "metadata": {},
   "outputs": [],
   "source": [
    "## this is exactly the same as above 1+2+3+4+5+6+7+8+9+10\n",
    "answer = 0\n",
    "print(answer)\n",
    "answer = answer + 1\n",
    "print(answer)\n",
    "answer = answer + 2\n",
    "print(answer)\n",
    "answer = answer + 3\n",
    "print(answer)\n",
    "answer = answer + 4\n",
    "print(answer)\n",
    "answer = answer + 5\n",
    "print(answer)\n",
    "answer = answer + 6\n",
    "print(answer)\n",
    "answer = answer + 7\n",
    "print(answer)\n",
    "answer = answer + 8\n",
    "print(answer)\n",
    "answer = answer + 9\n",
    "print(answer)\n",
    "answer = answer + 10\n",
    "print(answer)"
   ]
  },
  {
   "cell_type": "code",
   "execution_count": null,
   "metadata": {},
   "outputs": [],
   "source": [
    "## This one is exacly what we have done before, but look it is very much time consuming:\n",
    "answer = 0\n",
    "for i in range(11):\n",
    "    answer += i \n",
    "    print(answer)"
   ]
  },
  {
   "cell_type": "code",
   "execution_count": null,
   "metadata": {},
   "outputs": [],
   "source": []
  },
  {
   "cell_type": "code",
   "execution_count": null,
   "metadata": {},
   "outputs": [],
   "source": [
    "## looping the multiplication tables:\n",
    "print(10 * 1)\n",
    "print(10 * 2)\n",
    "print(10 * 3)\n",
    "print(10 * 4)"
   ]
  },
  {
   "cell_type": "code",
   "execution_count": null,
   "metadata": {},
   "outputs": [],
   "source": [
    "## doing this same thing with the help of a for loop:\n",
    "for i in range(10):\n",
    "    print(i * 10)"
   ]
  },
  {
   "cell_type": "code",
   "execution_count": null,
   "metadata": {},
   "outputs": [],
   "source": [
    "## just build up a program where we can display any table. It is my  program.\n",
    "t = input(\"What table would you like to display?\")\n",
    "t = int(t)\n",
    "for i in range(11):\n",
    "    print(t, \"X\", i, \"=\",t * i)"
   ]
  },
  {
   "cell_type": "code",
   "execution_count": null,
   "metadata": {},
   "outputs": [],
   "source": []
  },
  {
   "cell_type": "code",
   "execution_count": null,
   "metadata": {},
   "outputs": [],
   "source": [
    "## while loop : Another important area in programing.\n",
    "n = 1\n",
    "c = 1\n",
    "while (c == 1):\n",
    "    print(\"Token number\", n ,\"may please come in\")\n",
    "    c = input(\"Continue?(0/1)\")\n",
    "    c = int(c)\n",
    "    n = n + 1\n",
    "print(\"Thank you, this is the end of your day\")\n",
    "    \n",
    "## till the condition is true, it will keep executing. Once it is done it will come out!!"
   ]
  },
  {
   "cell_type": "code",
   "execution_count": null,
   "metadata": {},
   "outputs": [],
   "source": []
  }
 ],
 "metadata": {
  "kernelspec": {
   "display_name": "Python 3",
   "language": "python",
   "name": "python3"
  },
  "language_info": {
   "codemirror_mode": {
    "name": "ipython",
    "version": 3
   },
   "file_extension": ".py",
   "mimetype": "text/x-python",
   "name": "python",
   "nbconvert_exporter": "python",
   "pygments_lexer": "ipython3",
   "version": "3.6.4"
  }
 },
 "nbformat": 4,
 "nbformat_minor": 2
}
